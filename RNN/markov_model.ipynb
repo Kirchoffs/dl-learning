{
 "cells": [
  {
   "cell_type": "code",
   "execution_count": null,
   "id": "0",
   "metadata": {},
   "outputs": [],
   "source": [
    "import torch\n",
    "import torch.nn as nn\n",
    "import matplotlib.pyplot as plt\n",
    "from torch.utils.data import TensorDataset, DataLoader\n",
    "\n",
    "\n",
    "T = 3000\n",
    "time = torch.arange(1, T + 1, dtype = torch.float32)\n",
    "y = torch.sin(0.01 * time) + torch.normal(0, 0.2, (T,))\n",
    "\n",
    "plt.figure(figsize = (12, 8))\n",
    "plt.plot(time.numpy(), y.numpy(), label = 'sine signal with noise', color = 'blue')\n",
    "plt.xlabel('time')\n",
    "plt.ylabel('y')\n",
    "plt.legend()\n",
    "plt.grid(True)\n",
    "plt.tight_layout()\n",
    "plt.show()"
   ]
  },
  {
   "cell_type": "code",
   "execution_count": null,
   "id": "1",
   "metadata": {},
   "outputs": [],
   "source": [
    "tau = 4\n",
    "features = torch.zeros((T - tau, tau))\n",
    "for i in range(tau):\n",
    "    features[:, i] = y[i: T - tau + i]\n",
    "labels = y[tau:].reshape((-1, 1))\n",
    "\n",
    "batch_size, n_train = 48, 2400\n",
    "dataset = TensorDataset(features[:n_train], labels[:n_train])\n",
    "data_loader = DataLoader(dataset, batch_size, shuffle = True)\n",
    "\n",
    "def build_network():\n",
    "    hidden_size = 12\n",
    "    network = nn.Sequential(nn.Linear(tau, hidden_size), nn.ReLU(), nn.Linear(hidden_size, 1))\n",
    "    network.apply(init_weight)\n",
    "    return network\n",
    "\n",
    "def init_weight(m):\n",
    "    if type(m) == nn.Linear:\n",
    "        nn.init.xavier_uniform_(m.weight)\n",
    "\n",
    "def train(network, train_iter, loss_fn, epochs, lr):\n",
    "    trainer = torch.optim.Adam(network.parameters(), lr)\n",
    "    for epoch in range(epochs):\n",
    "        for X, y in train_iter:\n",
    "            trainer.zero_grad()\n",
    "            loss = loss_fn(network(X), y)\n",
    "            loss.backward()\n",
    "            trainer.step()\n",
    "        print(f'epoch {epoch + 1}, loss {loss:f}')\n",
    "\n",
    "network = build_network()\n",
    "loss_fn = nn.MSELoss()\n",
    "train(network, data_loader, loss_fn, 15, 0.01)"
   ]
  }
 ],
 "metadata": {
  "kernelspec": {
   "display_name": "Python 3 (ipykernel)",
   "language": "python",
   "name": "python3"
  },
  "language_info": {
   "codemirror_mode": {
    "name": "ipython",
    "version": 3
   },
   "file_extension": ".py",
   "mimetype": "text/x-python",
   "name": "python",
   "nbconvert_exporter": "python",
   "pygments_lexer": "ipython3",
   "version": "3.12.8"
  }
 },
 "nbformat": 4,
 "nbformat_minor": 5
}
